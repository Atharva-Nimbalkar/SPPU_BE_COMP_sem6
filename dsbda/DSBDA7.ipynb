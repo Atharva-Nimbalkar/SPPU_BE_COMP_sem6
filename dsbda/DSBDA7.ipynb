{
 "cells": [
  {
   "cell_type": "code",
   "execution_count": 1,
   "id": "496d22cc-87be-49b0-b348-c9bbdead7607",
   "metadata": {},
   "outputs": [
    {
     "name": "stderr",
     "output_type": "stream",
     "text": [
      "[nltk_data] Downloading collection 'all'\n",
      "[nltk_data]    | \n",
      "[nltk_data]    | Downloading package abc to\n",
      "[nltk_data]    |     C:\\Users\\athar\\AppData\\Roaming\\nltk_data...\n",
      "[nltk_data]    |   Package abc is already up-to-date!\n",
      "[nltk_data]    | Downloading package alpino to\n",
      "[nltk_data]    |     C:\\Users\\athar\\AppData\\Roaming\\nltk_data...\n",
      "[nltk_data]    |   Package alpino is already up-to-date!\n",
      "[nltk_data]    | Downloading package averaged_perceptron_tagger to\n",
      "[nltk_data]    |     C:\\Users\\athar\\AppData\\Roaming\\nltk_data...\n",
      "[nltk_data]    |   Package averaged_perceptron_tagger is already up-\n",
      "[nltk_data]    |       to-date!\n",
      "[nltk_data]    | Downloading package averaged_perceptron_tagger_ru to\n",
      "[nltk_data]    |     C:\\Users\\athar\\AppData\\Roaming\\nltk_data...\n",
      "[nltk_data]    |   Package averaged_perceptron_tagger_ru is already\n",
      "[nltk_data]    |       up-to-date!\n",
      "[nltk_data]    | Downloading package basque_grammars to\n",
      "[nltk_data]    |     C:\\Users\\athar\\AppData\\Roaming\\nltk_data...\n",
      "[nltk_data]    |   Package basque_grammars is already up-to-date!\n",
      "[nltk_data]    | Downloading package bcp47 to\n",
      "[nltk_data]    |     C:\\Users\\athar\\AppData\\Roaming\\nltk_data...\n",
      "[nltk_data]    |   Package bcp47 is already up-to-date!\n",
      "[nltk_data]    | Downloading package biocreative_ppi to\n",
      "[nltk_data]    |     C:\\Users\\athar\\AppData\\Roaming\\nltk_data...\n",
      "[nltk_data]    |   Package biocreative_ppi is already up-to-date!\n",
      "[nltk_data]    | Downloading package bllip_wsj_no_aux to\n",
      "[nltk_data]    |     C:\\Users\\athar\\AppData\\Roaming\\nltk_data...\n",
      "[nltk_data]    |   Package bllip_wsj_no_aux is already up-to-date!\n",
      "[nltk_data]    | Downloading package book_grammars to\n",
      "[nltk_data]    |     C:\\Users\\athar\\AppData\\Roaming\\nltk_data...\n",
      "[nltk_data]    |   Package book_grammars is already up-to-date!\n",
      "[nltk_data]    | Downloading package brown to\n",
      "[nltk_data]    |     C:\\Users\\athar\\AppData\\Roaming\\nltk_data...\n",
      "[nltk_data]    |   Package brown is already up-to-date!\n",
      "[nltk_data]    | Downloading package brown_tei to\n",
      "[nltk_data]    |     C:\\Users\\athar\\AppData\\Roaming\\nltk_data...\n",
      "[nltk_data]    |   Package brown_tei is already up-to-date!\n",
      "[nltk_data]    | Downloading package cess_cat to\n",
      "[nltk_data]    |     C:\\Users\\athar\\AppData\\Roaming\\nltk_data...\n",
      "[nltk_data]    |   Package cess_cat is already up-to-date!\n",
      "[nltk_data]    | Downloading package cess_esp to\n",
      "[nltk_data]    |     C:\\Users\\athar\\AppData\\Roaming\\nltk_data...\n",
      "[nltk_data]    |   Package cess_esp is already up-to-date!\n",
      "[nltk_data]    | Downloading package chat80 to\n",
      "[nltk_data]    |     C:\\Users\\athar\\AppData\\Roaming\\nltk_data...\n",
      "[nltk_data]    |   Package chat80 is already up-to-date!\n",
      "[nltk_data]    | Downloading package city_database to\n",
      "[nltk_data]    |     C:\\Users\\athar\\AppData\\Roaming\\nltk_data...\n",
      "[nltk_data]    |   Package city_database is already up-to-date!\n",
      "[nltk_data]    | Downloading package cmudict to\n",
      "[nltk_data]    |     C:\\Users\\athar\\AppData\\Roaming\\nltk_data...\n",
      "[nltk_data]    |   Package cmudict is already up-to-date!\n",
      "[nltk_data]    | Downloading package comparative_sentences to\n",
      "[nltk_data]    |     C:\\Users\\athar\\AppData\\Roaming\\nltk_data...\n",
      "[nltk_data]    |   Package comparative_sentences is already up-to-\n",
      "[nltk_data]    |       date!\n",
      "[nltk_data]    | Downloading package comtrans to\n",
      "[nltk_data]    |     C:\\Users\\athar\\AppData\\Roaming\\nltk_data...\n",
      "[nltk_data]    |   Package comtrans is already up-to-date!\n",
      "[nltk_data]    | Downloading package conll2000 to\n",
      "[nltk_data]    |     C:\\Users\\athar\\AppData\\Roaming\\nltk_data...\n",
      "[nltk_data]    |   Package conll2000 is already up-to-date!\n",
      "[nltk_data]    | Downloading package conll2002 to\n",
      "[nltk_data]    |     C:\\Users\\athar\\AppData\\Roaming\\nltk_data...\n",
      "[nltk_data]    |   Package conll2002 is already up-to-date!\n",
      "[nltk_data]    | Downloading package conll2007 to\n",
      "[nltk_data]    |     C:\\Users\\athar\\AppData\\Roaming\\nltk_data...\n",
      "[nltk_data]    |   Package conll2007 is already up-to-date!\n",
      "[nltk_data]    | Downloading package crubadan to\n",
      "[nltk_data]    |     C:\\Users\\athar\\AppData\\Roaming\\nltk_data...\n",
      "[nltk_data]    |   Package crubadan is already up-to-date!\n",
      "[nltk_data]    | Downloading package dependency_treebank to\n",
      "[nltk_data]    |     C:\\Users\\athar\\AppData\\Roaming\\nltk_data...\n",
      "[nltk_data]    |   Package dependency_treebank is already up-to-date!\n",
      "[nltk_data]    | Downloading package dolch to\n",
      "[nltk_data]    |     C:\\Users\\athar\\AppData\\Roaming\\nltk_data...\n",
      "[nltk_data]    |   Package dolch is already up-to-date!\n",
      "[nltk_data]    | Downloading package europarl_raw to\n",
      "[nltk_data]    |     C:\\Users\\athar\\AppData\\Roaming\\nltk_data...\n",
      "[nltk_data]    |   Package europarl_raw is already up-to-date!\n",
      "[nltk_data]    | Downloading package extended_omw to\n",
      "[nltk_data]    |     C:\\Users\\athar\\AppData\\Roaming\\nltk_data...\n",
      "[nltk_data]    |   Package extended_omw is already up-to-date!\n",
      "[nltk_data]    | Downloading package floresta to\n",
      "[nltk_data]    |     C:\\Users\\athar\\AppData\\Roaming\\nltk_data...\n",
      "[nltk_data]    |   Package floresta is already up-to-date!\n",
      "[nltk_data]    | Downloading package framenet_v15 to\n",
      "[nltk_data]    |     C:\\Users\\athar\\AppData\\Roaming\\nltk_data...\n",
      "[nltk_data]    |   Package framenet_v15 is already up-to-date!\n",
      "[nltk_data]    | Downloading package framenet_v17 to\n",
      "[nltk_data]    |     C:\\Users\\athar\\AppData\\Roaming\\nltk_data...\n",
      "[nltk_data]    |   Package framenet_v17 is already up-to-date!\n",
      "[nltk_data]    | Downloading package gazetteers to\n",
      "[nltk_data]    |     C:\\Users\\athar\\AppData\\Roaming\\nltk_data...\n",
      "[nltk_data]    |   Package gazetteers is already up-to-date!\n",
      "[nltk_data]    | Downloading package genesis to\n",
      "[nltk_data]    |     C:\\Users\\athar\\AppData\\Roaming\\nltk_data...\n",
      "[nltk_data]    |   Package genesis is already up-to-date!\n",
      "[nltk_data]    | Downloading package gutenberg to\n",
      "[nltk_data]    |     C:\\Users\\athar\\AppData\\Roaming\\nltk_data...\n",
      "[nltk_data]    |   Package gutenberg is already up-to-date!\n",
      "[nltk_data]    | Downloading package ieer to\n",
      "[nltk_data]    |     C:\\Users\\athar\\AppData\\Roaming\\nltk_data...\n",
      "[nltk_data]    |   Package ieer is already up-to-date!\n",
      "[nltk_data]    | Downloading package inaugural to\n",
      "[nltk_data]    |     C:\\Users\\athar\\AppData\\Roaming\\nltk_data...\n",
      "[nltk_data]    |   Package inaugural is already up-to-date!\n",
      "[nltk_data]    | Downloading package indian to\n",
      "[nltk_data]    |     C:\\Users\\athar\\AppData\\Roaming\\nltk_data...\n",
      "[nltk_data]    |   Package indian is already up-to-date!\n",
      "[nltk_data]    | Downloading package jeita to\n",
      "[nltk_data]    |     C:\\Users\\athar\\AppData\\Roaming\\nltk_data...\n",
      "[nltk_data]    |   Package jeita is already up-to-date!\n",
      "[nltk_data]    | Downloading package kimmo to\n",
      "[nltk_data]    |     C:\\Users\\athar\\AppData\\Roaming\\nltk_data...\n",
      "[nltk_data]    |   Package kimmo is already up-to-date!\n",
      "[nltk_data]    | Downloading package knbc to\n",
      "[nltk_data]    |     C:\\Users\\athar\\AppData\\Roaming\\nltk_data...\n",
      "[nltk_data]    |   Package knbc is already up-to-date!\n",
      "[nltk_data]    | Downloading package large_grammars to\n",
      "[nltk_data]    |     C:\\Users\\athar\\AppData\\Roaming\\nltk_data...\n",
      "[nltk_data]    |   Package large_grammars is already up-to-date!\n",
      "[nltk_data]    | Downloading package lin_thesaurus to\n",
      "[nltk_data]    |     C:\\Users\\athar\\AppData\\Roaming\\nltk_data...\n",
      "[nltk_data]    |   Package lin_thesaurus is already up-to-date!\n",
      "[nltk_data]    | Downloading package mac_morpho to\n",
      "[nltk_data]    |     C:\\Users\\athar\\AppData\\Roaming\\nltk_data...\n",
      "[nltk_data]    |   Package mac_morpho is already up-to-date!\n",
      "[nltk_data]    | Downloading package machado to\n",
      "[nltk_data]    |     C:\\Users\\athar\\AppData\\Roaming\\nltk_data...\n",
      "[nltk_data]    |   Package machado is already up-to-date!\n",
      "[nltk_data]    | Downloading package masc_tagged to\n",
      "[nltk_data]    |     C:\\Users\\athar\\AppData\\Roaming\\nltk_data...\n",
      "[nltk_data]    |   Package masc_tagged is already up-to-date!\n",
      "[nltk_data]    | Downloading package maxent_ne_chunker to\n",
      "[nltk_data]    |     C:\\Users\\athar\\AppData\\Roaming\\nltk_data...\n",
      "[nltk_data]    |   Package maxent_ne_chunker is already up-to-date!\n",
      "[nltk_data]    | Downloading package maxent_treebank_pos_tagger to\n",
      "[nltk_data]    |     C:\\Users\\athar\\AppData\\Roaming\\nltk_data...\n",
      "[nltk_data]    |   Package maxent_treebank_pos_tagger is already up-\n",
      "[nltk_data]    |       to-date!\n",
      "[nltk_data]    | Downloading package moses_sample to\n",
      "[nltk_data]    |     C:\\Users\\athar\\AppData\\Roaming\\nltk_data...\n",
      "[nltk_data]    |   Package moses_sample is already up-to-date!\n",
      "[nltk_data]    | Downloading package movie_reviews to\n",
      "[nltk_data]    |     C:\\Users\\athar\\AppData\\Roaming\\nltk_data...\n",
      "[nltk_data]    |   Package movie_reviews is already up-to-date!\n",
      "[nltk_data]    | Downloading package mte_teip5 to\n",
      "[nltk_data]    |     C:\\Users\\athar\\AppData\\Roaming\\nltk_data...\n",
      "[nltk_data]    |   Package mte_teip5 is already up-to-date!\n",
      "[nltk_data]    | Downloading package mwa_ppdb to\n",
      "[nltk_data]    |     C:\\Users\\athar\\AppData\\Roaming\\nltk_data...\n",
      "[nltk_data]    |   Package mwa_ppdb is already up-to-date!\n",
      "[nltk_data]    | Downloading package names to\n",
      "[nltk_data]    |     C:\\Users\\athar\\AppData\\Roaming\\nltk_data...\n",
      "[nltk_data]    |   Package names is already up-to-date!\n",
      "[nltk_data]    | Downloading package nombank.1.0 to\n",
      "[nltk_data]    |     C:\\Users\\athar\\AppData\\Roaming\\nltk_data...\n",
      "[nltk_data]    |   Package nombank.1.0 is already up-to-date!\n",
      "[nltk_data]    | Downloading package nonbreaking_prefixes to\n",
      "[nltk_data]    |     C:\\Users\\athar\\AppData\\Roaming\\nltk_data...\n",
      "[nltk_data]    |   Package nonbreaking_prefixes is already up-to-date!\n",
      "[nltk_data]    | Downloading package nps_chat to\n",
      "[nltk_data]    |     C:\\Users\\athar\\AppData\\Roaming\\nltk_data...\n",
      "[nltk_data]    |   Package nps_chat is already up-to-date!\n",
      "[nltk_data]    | Downloading package omw to\n",
      "[nltk_data]    |     C:\\Users\\athar\\AppData\\Roaming\\nltk_data...\n",
      "[nltk_data]    |   Package omw is already up-to-date!\n",
      "[nltk_data]    | Downloading package omw-1.4 to\n",
      "[nltk_data]    |     C:\\Users\\athar\\AppData\\Roaming\\nltk_data...\n",
      "[nltk_data]    |   Package omw-1.4 is already up-to-date!\n",
      "[nltk_data]    | Downloading package opinion_lexicon to\n",
      "[nltk_data]    |     C:\\Users\\athar\\AppData\\Roaming\\nltk_data...\n",
      "[nltk_data]    |   Package opinion_lexicon is already up-to-date!\n",
      "[nltk_data]    | Downloading package panlex_swadesh to\n",
      "[nltk_data]    |     C:\\Users\\athar\\AppData\\Roaming\\nltk_data...\n",
      "[nltk_data]    |   Package panlex_swadesh is already up-to-date!\n",
      "[nltk_data]    | Downloading package paradigms to\n",
      "[nltk_data]    |     C:\\Users\\athar\\AppData\\Roaming\\nltk_data...\n",
      "[nltk_data]    |   Package paradigms is already up-to-date!\n",
      "[nltk_data]    | Downloading package pe08 to\n",
      "[nltk_data]    |     C:\\Users\\athar\\AppData\\Roaming\\nltk_data...\n",
      "[nltk_data]    |   Package pe08 is already up-to-date!\n",
      "[nltk_data]    | Downloading package perluniprops to\n",
      "[nltk_data]    |     C:\\Users\\athar\\AppData\\Roaming\\nltk_data...\n",
      "[nltk_data]    |   Package perluniprops is already up-to-date!\n",
      "[nltk_data]    | Downloading package pil to\n",
      "[nltk_data]    |     C:\\Users\\athar\\AppData\\Roaming\\nltk_data...\n",
      "[nltk_data]    |   Package pil is already up-to-date!\n",
      "[nltk_data]    | Downloading package pl196x to\n",
      "[nltk_data]    |     C:\\Users\\athar\\AppData\\Roaming\\nltk_data...\n",
      "[nltk_data]    |   Package pl196x is already up-to-date!\n",
      "[nltk_data]    | Downloading package porter_test to\n",
      "[nltk_data]    |     C:\\Users\\athar\\AppData\\Roaming\\nltk_data...\n",
      "[nltk_data]    |   Package porter_test is already up-to-date!\n",
      "[nltk_data]    | Downloading package ppattach to\n",
      "[nltk_data]    |     C:\\Users\\athar\\AppData\\Roaming\\nltk_data...\n",
      "[nltk_data]    |   Package ppattach is already up-to-date!\n",
      "[nltk_data]    | Downloading package problem_reports to\n",
      "[nltk_data]    |     C:\\Users\\athar\\AppData\\Roaming\\nltk_data...\n",
      "[nltk_data]    |   Package problem_reports is already up-to-date!\n",
      "[nltk_data]    | Downloading package product_reviews_1 to\n",
      "[nltk_data]    |     C:\\Users\\athar\\AppData\\Roaming\\nltk_data...\n",
      "[nltk_data]    |   Package product_reviews_1 is already up-to-date!\n",
      "[nltk_data]    | Downloading package product_reviews_2 to\n",
      "[nltk_data]    |     C:\\Users\\athar\\AppData\\Roaming\\nltk_data...\n",
      "[nltk_data]    |   Package product_reviews_2 is already up-to-date!\n",
      "[nltk_data]    | Downloading package propbank to\n",
      "[nltk_data]    |     C:\\Users\\athar\\AppData\\Roaming\\nltk_data...\n",
      "[nltk_data]    |   Package propbank is already up-to-date!\n",
      "[nltk_data]    | Downloading package pros_cons to\n",
      "[nltk_data]    |     C:\\Users\\athar\\AppData\\Roaming\\nltk_data...\n",
      "[nltk_data]    |   Package pros_cons is already up-to-date!\n",
      "[nltk_data]    | Downloading package ptb to\n",
      "[nltk_data]    |     C:\\Users\\athar\\AppData\\Roaming\\nltk_data...\n",
      "[nltk_data]    |   Package ptb is already up-to-date!\n",
      "[nltk_data]    | Downloading package punkt to\n",
      "[nltk_data]    |     C:\\Users\\athar\\AppData\\Roaming\\nltk_data...\n",
      "[nltk_data]    |   Package punkt is already up-to-date!\n",
      "[nltk_data]    | Downloading package qc to\n",
      "[nltk_data]    |     C:\\Users\\athar\\AppData\\Roaming\\nltk_data...\n",
      "[nltk_data]    |   Package qc is already up-to-date!\n",
      "[nltk_data]    | Downloading package reuters to\n",
      "[nltk_data]    |     C:\\Users\\athar\\AppData\\Roaming\\nltk_data...\n",
      "[nltk_data]    |   Package reuters is already up-to-date!\n",
      "[nltk_data]    | Downloading package rslp to\n",
      "[nltk_data]    |     C:\\Users\\athar\\AppData\\Roaming\\nltk_data...\n",
      "[nltk_data]    |   Package rslp is already up-to-date!\n",
      "[nltk_data]    | Downloading package rte to\n",
      "[nltk_data]    |     C:\\Users\\athar\\AppData\\Roaming\\nltk_data...\n",
      "[nltk_data]    |   Package rte is already up-to-date!\n",
      "[nltk_data]    | Downloading package sample_grammars to\n",
      "[nltk_data]    |     C:\\Users\\athar\\AppData\\Roaming\\nltk_data...\n",
      "[nltk_data]    |   Package sample_grammars is already up-to-date!\n",
      "[nltk_data]    | Downloading package semcor to\n",
      "[nltk_data]    |     C:\\Users\\athar\\AppData\\Roaming\\nltk_data...\n",
      "[nltk_data]    |   Package semcor is already up-to-date!\n",
      "[nltk_data]    | Downloading package senseval to\n",
      "[nltk_data]    |     C:\\Users\\athar\\AppData\\Roaming\\nltk_data...\n",
      "[nltk_data]    |   Package senseval is already up-to-date!\n",
      "[nltk_data]    | Downloading package sentence_polarity to\n",
      "[nltk_data]    |     C:\\Users\\athar\\AppData\\Roaming\\nltk_data...\n",
      "[nltk_data]    |   Package sentence_polarity is already up-to-date!\n",
      "[nltk_data]    | Downloading package sentiwordnet to\n",
      "[nltk_data]    |     C:\\Users\\athar\\AppData\\Roaming\\nltk_data...\n",
      "[nltk_data]    |   Package sentiwordnet is already up-to-date!\n",
      "[nltk_data]    | Downloading package shakespeare to\n",
      "[nltk_data]    |     C:\\Users\\athar\\AppData\\Roaming\\nltk_data...\n",
      "[nltk_data]    |   Package shakespeare is already up-to-date!\n",
      "[nltk_data]    | Downloading package sinica_treebank to\n",
      "[nltk_data]    |     C:\\Users\\athar\\AppData\\Roaming\\nltk_data...\n",
      "[nltk_data]    |   Package sinica_treebank is already up-to-date!\n",
      "[nltk_data]    | Downloading package smultron to\n",
      "[nltk_data]    |     C:\\Users\\athar\\AppData\\Roaming\\nltk_data...\n",
      "[nltk_data]    |   Package smultron is already up-to-date!\n",
      "[nltk_data]    | Downloading package snowball_data to\n",
      "[nltk_data]    |     C:\\Users\\athar\\AppData\\Roaming\\nltk_data...\n",
      "[nltk_data]    |   Package snowball_data is already up-to-date!\n",
      "[nltk_data]    | Downloading package spanish_grammars to\n",
      "[nltk_data]    |     C:\\Users\\athar\\AppData\\Roaming\\nltk_data...\n",
      "[nltk_data]    |   Package spanish_grammars is already up-to-date!\n",
      "[nltk_data]    | Downloading package state_union to\n",
      "[nltk_data]    |     C:\\Users\\athar\\AppData\\Roaming\\nltk_data...\n",
      "[nltk_data]    |   Package state_union is already up-to-date!\n",
      "[nltk_data]    | Downloading package stopwords to\n",
      "[nltk_data]    |     C:\\Users\\athar\\AppData\\Roaming\\nltk_data...\n",
      "[nltk_data]    |   Package stopwords is already up-to-date!\n",
      "[nltk_data]    | Downloading package subjectivity to\n",
      "[nltk_data]    |     C:\\Users\\athar\\AppData\\Roaming\\nltk_data...\n",
      "[nltk_data]    |   Package subjectivity is already up-to-date!\n",
      "[nltk_data]    | Downloading package swadesh to\n",
      "[nltk_data]    |     C:\\Users\\athar\\AppData\\Roaming\\nltk_data...\n",
      "[nltk_data]    |   Package swadesh is already up-to-date!\n",
      "[nltk_data]    | Downloading package switchboard to\n",
      "[nltk_data]    |     C:\\Users\\athar\\AppData\\Roaming\\nltk_data...\n",
      "[nltk_data]    |   Package switchboard is already up-to-date!\n",
      "[nltk_data]    | Downloading package tagsets to\n",
      "[nltk_data]    |     C:\\Users\\athar\\AppData\\Roaming\\nltk_data...\n",
      "[nltk_data]    |   Package tagsets is already up-to-date!\n",
      "[nltk_data]    | Downloading package timit to\n",
      "[nltk_data]    |     C:\\Users\\athar\\AppData\\Roaming\\nltk_data...\n",
      "[nltk_data]    |   Package timit is already up-to-date!\n",
      "[nltk_data]    | Downloading package toolbox to\n",
      "[nltk_data]    |     C:\\Users\\athar\\AppData\\Roaming\\nltk_data...\n",
      "[nltk_data]    |   Package toolbox is already up-to-date!\n",
      "[nltk_data]    | Downloading package treebank to\n",
      "[nltk_data]    |     C:\\Users\\athar\\AppData\\Roaming\\nltk_data...\n",
      "[nltk_data]    |   Package treebank is already up-to-date!\n",
      "[nltk_data]    | Downloading package twitter_samples to\n",
      "[nltk_data]    |     C:\\Users\\athar\\AppData\\Roaming\\nltk_data...\n",
      "[nltk_data]    |   Package twitter_samples is already up-to-date!\n",
      "[nltk_data]    | Downloading package udhr to\n",
      "[nltk_data]    |     C:\\Users\\athar\\AppData\\Roaming\\nltk_data...\n",
      "[nltk_data]    |   Package udhr is already up-to-date!\n",
      "[nltk_data]    | Downloading package udhr2 to\n",
      "[nltk_data]    |     C:\\Users\\athar\\AppData\\Roaming\\nltk_data...\n",
      "[nltk_data]    |   Package udhr2 is already up-to-date!\n",
      "[nltk_data]    | Downloading package unicode_samples to\n",
      "[nltk_data]    |     C:\\Users\\athar\\AppData\\Roaming\\nltk_data...\n",
      "[nltk_data]    |   Package unicode_samples is already up-to-date!\n",
      "[nltk_data]    | Downloading package universal_tagset to\n",
      "[nltk_data]    |     C:\\Users\\athar\\AppData\\Roaming\\nltk_data...\n",
      "[nltk_data]    |   Package universal_tagset is already up-to-date!\n",
      "[nltk_data]    | Downloading package universal_treebanks_v20 to\n",
      "[nltk_data]    |     C:\\Users\\athar\\AppData\\Roaming\\nltk_data...\n",
      "[nltk_data]    |   Package universal_treebanks_v20 is already up-to-\n",
      "[nltk_data]    |       date!\n",
      "[nltk_data]    | Downloading package vader_lexicon to\n",
      "[nltk_data]    |     C:\\Users\\athar\\AppData\\Roaming\\nltk_data...\n",
      "[nltk_data]    |   Package vader_lexicon is already up-to-date!\n",
      "[nltk_data]    | Downloading package verbnet to\n",
      "[nltk_data]    |     C:\\Users\\athar\\AppData\\Roaming\\nltk_data...\n",
      "[nltk_data]    |   Package verbnet is already up-to-date!\n",
      "[nltk_data]    | Downloading package verbnet3 to\n",
      "[nltk_data]    |     C:\\Users\\athar\\AppData\\Roaming\\nltk_data...\n",
      "[nltk_data]    |   Package verbnet3 is already up-to-date!\n",
      "[nltk_data]    | Downloading package webtext to\n",
      "[nltk_data]    |     C:\\Users\\athar\\AppData\\Roaming\\nltk_data...\n",
      "[nltk_data]    |   Package webtext is already up-to-date!\n",
      "[nltk_data]    | Downloading package wmt15_eval to\n",
      "[nltk_data]    |     C:\\Users\\athar\\AppData\\Roaming\\nltk_data...\n",
      "[nltk_data]    |   Package wmt15_eval is already up-to-date!\n",
      "[nltk_data]    | Downloading package word2vec_sample to\n",
      "[nltk_data]    |     C:\\Users\\athar\\AppData\\Roaming\\nltk_data...\n",
      "[nltk_data]    |   Package word2vec_sample is already up-to-date!\n",
      "[nltk_data]    | Downloading package wordnet to\n",
      "[nltk_data]    |     C:\\Users\\athar\\AppData\\Roaming\\nltk_data...\n",
      "[nltk_data]    |   Package wordnet is already up-to-date!\n",
      "[nltk_data]    | Downloading package wordnet2021 to\n",
      "[nltk_data]    |     C:\\Users\\athar\\AppData\\Roaming\\nltk_data...\n",
      "[nltk_data]    |   Package wordnet2021 is already up-to-date!\n",
      "[nltk_data]    | Downloading package wordnet2022 to\n",
      "[nltk_data]    |     C:\\Users\\athar\\AppData\\Roaming\\nltk_data...\n",
      "[nltk_data]    |   Package wordnet2022 is already up-to-date!\n",
      "[nltk_data]    | Downloading package wordnet31 to\n",
      "[nltk_data]    |     C:\\Users\\athar\\AppData\\Roaming\\nltk_data...\n",
      "[nltk_data]    |   Package wordnet31 is already up-to-date!\n",
      "[nltk_data]    | Downloading package wordnet_ic to\n",
      "[nltk_data]    |     C:\\Users\\athar\\AppData\\Roaming\\nltk_data...\n",
      "[nltk_data]    |   Package wordnet_ic is already up-to-date!\n",
      "[nltk_data]    | Downloading package words to\n",
      "[nltk_data]    |     C:\\Users\\athar\\AppData\\Roaming\\nltk_data...\n",
      "[nltk_data]    |   Package words is already up-to-date!\n",
      "[nltk_data]    | Downloading package ycoe to\n",
      "[nltk_data]    |     C:\\Users\\athar\\AppData\\Roaming\\nltk_data...\n",
      "[nltk_data]    |   Package ycoe is already up-to-date!\n",
      "[nltk_data]    | \n",
      "[nltk_data]  Done downloading collection all\n"
     ]
    }
   ],
   "source": [
    "import nltk\n",
    "nltk.download(\"all\")\n",
    "import warnings\n",
    "warnings.filterwarnings('ignore')\n",
    "import pandas as pd"
   ]
  },
  {
   "cell_type": "markdown",
   "id": "13ae74e7-5bc8-4c73-a664-05c8bfaf14e7",
   "metadata": {},
   "source": [
    "WhiteSpaceTokenizer : This tokenizer splits text into tokens based on whitespace characters (spaces, tabs, newline characters, etc.)"
   ]
  },
  {
   "cell_type": "code",
   "execution_count": 5,
   "id": "658b963a-639a-452d-9cf1-423b5d348567",
   "metadata": {},
   "outputs": [],
   "source": [
    "from nltk import (WhitespaceTokenizer,word_tokenize,sent_tokenize,wordpunct_tokenize,MWETokenizer,TweetTokenizer)\n",
    "from nltk.corpus import stopwords"
   ]
  },
  {
   "cell_type": "code",
   "execution_count": 6,
   "id": "110dce1c-095b-4131-99e9-bc7df538c416",
   "metadata": {},
   "outputs": [],
   "source": [
    "text1=\"Eduation is most powerful weapon!! which you can use to change the world\"\n",
    "text2=\"Keep doing. One day you will get result.\"\n",
    "text3=\"T20 World cup will start in next month. #india #t20\"\n",
    "\n"
   ]
  },
  {
   "cell_type": "markdown",
   "id": "6f8578cd-cf76-46e4-8acd-faa689481a63",
   "metadata": {},
   "source": [
    "Stop words"
   ]
  },
  {
   "cell_type": "code",
   "execution_count": 7,
   "id": "3a641414-f2fc-46b6-85c5-97cc5ba2c5ef",
   "metadata": {},
   "outputs": [
    {
     "name": "stdout",
     "output_type": "stream",
     "text": [
      "['i', 'me', 'my', 'myself', 'we', 'our', 'ours', 'ourselves', 'you', \"you're\", \"you've\", \"you'll\", \"you'd\", 'your', 'yours', 'yourself', 'yourselves', 'he', 'him', 'his', 'himself', 'she', \"she's\", 'her', 'hers', 'herself', 'it', \"it's\", 'its', 'itself', 'they', 'them', 'their', 'theirs', 'themselves', 'what', 'which', 'who', 'whom', 'this', 'that', \"that'll\", 'these', 'those', 'am', 'is', 'are', 'was', 'were', 'be', 'been', 'being', 'have', 'has', 'had', 'having', 'do', 'does', 'did', 'doing', 'a', 'an', 'the', 'and', 'but', 'if', 'or', 'because', 'as', 'until', 'while', 'of', 'at', 'by', 'for', 'with', 'about', 'against', 'between', 'into', 'through', 'during', 'before', 'after', 'above', 'below', 'to', 'from', 'up', 'down', 'in', 'out', 'on', 'off', 'over', 'under', 'again', 'further', 'then', 'once', 'here', 'there', 'when', 'where', 'why', 'how', 'all', 'any', 'both', 'each', 'few', 'more', 'most', 'other', 'some', 'such', 'no', 'nor', 'not', 'only', 'own', 'same', 'so', 'than', 'too', 'very', 's', 't', 'can', 'will', 'just', 'don', \"don't\", 'should', \"should've\", 'now', 'd', 'll', 'm', 'o', 're', 've', 'y', 'ain', 'aren', \"aren't\", 'couldn', \"couldn't\", 'didn', \"didn't\", 'doesn', \"doesn't\", 'hadn', \"hadn't\", 'hasn', \"hasn't\", 'haven', \"haven't\", 'isn', \"isn't\", 'ma', 'mightn', \"mightn't\", 'mustn', \"mustn't\", 'needn', \"needn't\", 'shan', \"shan't\", 'shouldn', \"shouldn't\", 'wasn', \"wasn't\", 'weren', \"weren't\", 'won', \"won't\", 'wouldn', \"wouldn't\"]\n"
     ]
    }
   ],
   "source": [
    "print(stopwords.words('english'))"
   ]
  },
  {
   "cell_type": "code",
   "execution_count": 9,
   "id": "31384ab0-4e01-4bd4-8e14-34ea873af349",
   "metadata": {},
   "outputs": [
    {
     "name": "stdout",
     "output_type": "stream",
     "text": [
      "['hello', 'name', 'atharva', 'nimbalkar', ',', 'currently', 'pursuing', 'cs', 'modern', 'college', ',', 'pune']\n"
     ]
    }
   ],
   "source": [
    "text_stop=\"Hello my name is atharva nimbalkar,currently I am pursuing BE in CS at Modern College,Pune\"\n",
    "stop_words = set(stopwords.words('english'))\n",
    "word_tokens = word_tokenize(text_stop.lower())\n",
    "filtered_sentence = []\n",
    "for w in word_tokens:\n",
    "    if w not in stop_words:\n",
    "        filtered_sentence.append(w)\n",
    "\n",
    "print(filtered_sentence)"
   ]
  },
  {
   "cell_type": "code",
   "execution_count": 10,
   "id": "8285fb25-238c-41ac-8d02-92ae786448fc",
   "metadata": {},
   "outputs": [],
   "source": [
    "tk=WhitespaceTokenizer()"
   ]
  },
  {
   "cell_type": "code",
   "execution_count": 17,
   "id": "916fbdc6-39c8-4998-9458-ff35c7c84f52",
   "metadata": {},
   "outputs": [
    {
     "name": "stdout",
     "output_type": "stream",
     "text": [
      "['Keep', 'doing.', 'One', 'day', 'you', 'will', 'get', 'result.']\n"
     ]
    }
   ],
   "source": [
    "df=tk.tokenize(text2)\n",
    "print(df)"
   ]
  },
  {
   "cell_type": "markdown",
   "id": "e56c3bcd-f636-4afc-97c0-7119d14dca5f",
   "metadata": {},
   "source": [
    "a specialized tokenizer designed to handle tweets and other social media text."
   ]
  },
  {
   "cell_type": "code",
   "execution_count": 16,
   "id": "d4e5c053-125e-4838-90da-5a7b7f8d0f93",
   "metadata": {},
   "outputs": [
    {
     "name": "stdout",
     "output_type": "stream",
     "text": [
      "['T20', 'World', 'cup', 'will', 'start', 'in', 'next', 'month', '.', '#india', '#t20']\n"
     ]
    }
   ],
   "source": [
    "tokenizer2=TweetTokenizer()\n",
    "print(tokenizer2.tokenize(text3))"
   ]
  },
  {
   "cell_type": "code",
   "execution_count": 18,
   "id": "6240cf94-b7db-4423-bb73-15eee8dd3042",
   "metadata": {},
   "outputs": [
    {
     "name": "stdout",
     "output_type": "stream",
     "text": [
      "['Keep_Doing', ',', 'One', 'day', 'you', 'will', 'get', 'result', '.']\n"
     ]
    }
   ],
   "source": [
    "text5=\"Keep Doing, One day you will get result.\"\n",
    "tokenizer3=MWETokenizer()\n",
    "tokenizer3.add_mwe((\"Keep\",\"Doing\"))\n",
    "print(tokenizer3.tokenize(word_tokenize(text5)))"
   ]
  },
  {
   "cell_type": "markdown",
   "id": "80948166-4f48-4915-900b-f296aa02a8d4",
   "metadata": {},
   "source": [
    "It allows you to specify multi-word expressions that should be treated as single tokens, "
   ]
  },
  {
   "cell_type": "markdown",
   "id": "0890bedd-0eb0-4c56-8379-9818aaf9b0b3",
   "metadata": {},
   "source": [
    "1.2 Word Tokenization\n",
    "This tokenizer is a part of NLTK's default tokenizers and splits text into words using rules based on punctuation and spaces."
   ]
  },
  {
   "cell_type": "code",
   "execution_count": 20,
   "id": "4fca363c-886d-4429-87a0-1ca8715d376a",
   "metadata": {},
   "outputs": [
    {
     "name": "stdout",
     "output_type": "stream",
     "text": [
      "word tokenizer: ['Keep', 'doing', '.', 'One', 'day', 'you', 'will', 'get', 'result', '.']\n"
     ]
    }
   ],
   "source": [
    "word_token1=word_tokenize(text2)\n",
    "print(\"word tokenizer:\",word_token1)"
   ]
  },
  {
   "cell_type": "markdown",
   "id": "3081a4c5-2da4-4089-85da-980791b17a4b",
   "metadata": {},
   "source": [
    "1.3 Sentence Tokenization\n",
    "This tokenizer splits text into sentences based on punctuation marks (like periods(fullstop), exclamation marks, and question marks) that usually denote the end of a sentence."
   ]
  },
  {
   "cell_type": "code",
   "execution_count": 9,
   "id": "f8144fcb-ff36-4268-9d5f-c63ef74f4554",
   "metadata": {},
   "outputs": [
    {
     "name": "stdout",
     "output_type": "stream",
     "text": [
      "sentence tokenization :  ['Keep doing.', 'One day you will get result.']\n"
     ]
    }
   ],
   "source": [
    "sentence_token=sent_tokenize(text2)\n",
    "print(\"sentence tokenization : \",sentence_token)"
   ]
  },
  {
   "cell_type": "code",
   "execution_count": 10,
   "id": "67d28f0e-a537-416e-8c99-e1db01a5ba46",
   "metadata": {},
   "outputs": [
    {
     "name": "stdout",
     "output_type": "stream",
     "text": [
      "No. of Word Tokens in Text 1 :  10 \n",
      "No. of sent Tokens in Text 2 :  2\n"
     ]
    }
   ],
   "source": [
    "print(\"No. of Word Tokens in Text 1 : \",len(word_token1),\"\\nNo. of sent Tokens in Text 2 : \",len(sentence_token))\n"
   ]
  },
  {
   "cell_type": "markdown",
   "id": "51d79061-bb63-4c71-8c01-8a6b41d93173",
   "metadata": {},
   "source": [
    "1.4 Punctuation Based Tokenizer\""
   ]
  },
  {
   "cell_type": "code",
   "execution_count": 21,
   "id": "32ef3586-0f7f-4642-9f3b-4754c86400f2",
   "metadata": {},
   "outputs": [
    {
     "name": "stdout",
     "output_type": "stream",
     "text": [
      "punctutation based tokens in text 1: ['Eduation', 'is', 'most', 'powerful', 'weapon', '!!', 'which', 'you', 'can', 'use', 'to', 'change', 'the', 'world'] \n",
      "\n"
     ]
    }
   ],
   "source": [
    "punct1=wordpunct_tokenize(text1)\n",
    "print(\"punctutation based tokens in text 1:\",punct1,\"\\n\")"
   ]
  },
  {
   "cell_type": "markdown",
   "id": "edafc529-0148-47df-9969-a1e96cb8dba2",
   "metadata": {},
   "source": [
    "Handling Punctuation : Unlike some other tokenizers (e.g., word_tokenize), wordpunct_tokenize does not combine punctuation marks with adjacent words."
   ]
  },
  {
   "cell_type": "markdown",
   "id": "9e0c6751-defc-4540-9f7f-876850cbe4b5",
   "metadata": {},
   "source": [
    "## Stemming"
   ]
  },
  {
   "cell_type": "code",
   "execution_count": 14,
   "id": "8c248a6c-abcf-440f-a21d-1526bdce5f7c",
   "metadata": {},
   "outputs": [],
   "source": [
    "from nltk.stem import PorterStemmer,SnowballStemmer"
   ]
  },
  {
   "cell_type": "markdown",
   "id": "37a858ec-7170-4d23-8ec0-2d898036e41e",
   "metadata": {},
   "source": [
    "2.1 Porter Stemmer"
   ]
  },
  {
   "cell_type": "code",
   "execution_count": 15,
   "id": "f4aeb690-01bb-4723-a305-d517285d372a",
   "metadata": {},
   "outputs": [],
   "source": [
    "stem=PorterStemmer()\n",
    "#It follows a set of heuristic rules to remove suffixes from words, aiming to produce the root form of the word."
   ]
  },
  {
   "cell_type": "code",
   "execution_count": 16,
   "id": "2075d38d-b8fa-4ecd-8ebd-937f985375b5",
   "metadata": {},
   "outputs": [
    {
     "data": {
      "text/plain": [
       "['keep', 'doing.', 'one', 'day', 'you', 'will', 'get', 'result.']"
      ]
     },
     "execution_count": 16,
     "metadata": {},
     "output_type": "execute_result"
    }
   ],
   "source": [
    "def step_words(text2):\n",
    "    word_tokens=text2.split()\n",
    "    stems=[stem.stem(word) for word in word_tokens]\n",
    "    return stems\n",
    "\n",
    "step_words(text2)"
   ]
  },
  {
   "cell_type": "markdown",
   "id": "806b2802-471d-430d-b7fb-3d0c22fdaf9d",
   "metadata": {},
   "source": [
    "2.2 Snowball Stemmer"
   ]
  },
  {
   "cell_type": "code",
   "execution_count": 17,
   "id": "817494fc-a319-46a9-8762-4a7eca6bcd5d",
   "metadata": {},
   "outputs": [],
   "source": [
    "snow=SnowballStemmer('english')"
   ]
  },
  {
   "cell_type": "code",
   "execution_count": 18,
   "id": "8f793a76-c2a1-4f2e-a9f3-8a575355ce28",
   "metadata": {},
   "outputs": [
    {
     "data": {
      "text/plain": [
       "['educ',\n",
       " 'is',\n",
       " 'most',\n",
       " 'power',\n",
       " 'weapon',\n",
       " 'which',\n",
       " 'you',\n",
       " 'can',\n",
       " 'use',\n",
       " 'to',\n",
       " 'chang',\n",
       " 'the',\n",
       " 'world']"
      ]
     },
     "execution_count": 18,
     "metadata": {},
     "output_type": "execute_result"
    }
   ],
   "source": [
    "text8=\"Education is most powerful weapon which you can use to change the world\"\n",
    "def stem_words(text8):\n",
    "    word_tokens=text8.split()\n",
    "    stems=[snow.stem(word) for word in word_tokens]\n",
    "    return stems\n",
    "\n",
    "stem_words(text8)"
   ]
  },
  {
   "cell_type": "markdown",
   "id": "f561c27e-9732-49ac-be39-0166e74c2860",
   "metadata": {},
   "source": [
    "3.Lemmatization"
   ]
  },
  {
   "cell_type": "code",
   "execution_count": 19,
   "id": "dab9a17f-a533-427f-bf56-d478fecbceda",
   "metadata": {},
   "outputs": [],
   "source": [
    "from nltk.stem import WordNetLemmatizer"
   ]
  },
  {
   "cell_type": "code",
   "execution_count": 20,
   "id": "7db1ec38-499c-4932-b6f4-2f099c221e79",
   "metadata": {},
   "outputs": [],
   "source": [
    "lemmas=WordNetLemmatizer()"
   ]
  },
  {
   "cell_type": "code",
   "execution_count": 21,
   "id": "7db7f869-2a22-4f32-8c9a-067da6bb5ec4",
   "metadata": {},
   "outputs": [
    {
     "name": "stdout",
     "output_type": "stream",
     "text": [
      "word_tokens  ['Eduation', 'is', 'most', 'powerful', 'weapon', 'which', 'you', 'can', 'use', 'to', 'change', 'the', 'world']\n"
     ]
    },
    {
     "data": {
      "text/plain": [
       "['Eduation',\n",
       " 'is',\n",
       " 'most',\n",
       " 'powerful',\n",
       " 'weapon',\n",
       " 'which',\n",
       " 'you',\n",
       " 'can',\n",
       " 'use',\n",
       " 'to',\n",
       " 'change',\n",
       " 'the',\n",
       " 'world']"
      ]
     },
     "execution_count": 21,
     "metadata": {},
     "output_type": "execute_result"
    }
   ],
   "source": [
    "def stem_words(text1):\n",
    "    word_tokens=text1.split()\n",
    "    print(\"word_tokens \",word_tokens)\n",
    "    stems=[lemmas.lemmatize(word) for word in word_tokens]\n",
    "    return stems\n",
    "\n",
    "stem_words(text1)"
   ]
  },
  {
   "cell_type": "markdown",
   "id": "73efa1cf-297b-49b4-8d05-c321fc4aec4a",
   "metadata": {},
   "source": [
    "Lemmatization is a natural language processing technique used to reduce words to their base or dictionary form, known as lemmas. The purpose of lemmatization is to normalize words so that different inflected forms or variants of a word can be mapped to the same base form. For example, in English, the words \"running\", \"runs\", and \"ran\" would all be lemmatized to their common base form \"run\"."
   ]
  },
  {
   "cell_type": "markdown",
   "id": "19b554c5-4d99-4c1b-b9e6-4a05a90e0fa7",
   "metadata": {},
   "source": [
    "4.POS Tagging (Part of Speech)"
   ]
  },
  {
   "cell_type": "code",
   "execution_count": 22,
   "id": "788d214a-eeb5-4872-9742-59e2f900123d",
   "metadata": {},
   "outputs": [],
   "source": [
    "from nltk import word_tokenize, pos_tag"
   ]
  },
  {
   "cell_type": "code",
   "execution_count": 23,
   "id": "38ac92da-471d-4924-8093-b66a7da39595",
   "metadata": {},
   "outputs": [
    {
     "name": "stdout",
     "output_type": "stream",
     "text": [
      "[('Eduation', 'NN'), ('is', 'VBZ'), ('most', 'RBS'), ('powerful', 'JJ'), ('weapon', 'NN'), ('which', 'WDT'), ('you', 'PRP'), ('can', 'MD'), ('use', 'VB'), ('to', 'TO'), ('change', 'VB'), ('the', 'DT'), ('world', 'NN')]\n"
     ]
    }
   ],
   "source": [
    "print(pos_tag(word_tokenize(text1)))"
   ]
  },
  {
   "cell_type": "markdown",
   "id": "6d7df153-7de8-4b7b-a8d2-7196381959a8",
   "metadata": {},
   "source": [
    "pos_tag(word_tokenize(text)): This function takes the tokenized words as input and assigns a part-of-speech (POS) tag to each word. A POS tag represents the grammatical category of a word, such as noun (NN), verb (VB), adjective (JJ), etc."
   ]
  },
  {
   "cell_type": "markdown",
   "id": "663e014d-ff5f-4267-9fd0-50f386f819a6",
   "metadata": {},
   "source": [
    "Here's the breakdown of the output:\n",
    "\n",
    "('Keep', 'VB'): The word \"Keep\" is tagged as a verb (VB).\n",
    "('going', 'VBG'): The word \"going\" is tagged as a verb gerund (VBG).\n",
    "('one', 'CD'): The word \"one\" is tagged as a cardinal number (CD).\n",
    "('day', 'NN'): The word \"day\" is tagged as a noun (NN).\n",
    "('you', 'PRP'): The word \"you\" is tagged as a personal pronoun (PRP).\n",
    "('will', 'MD'): The word \"will\" is tagged as a modal (MD).\n",
    "('get', 'VB'): The word \"get\" is tagged as a verb (VB).\n",
    "('result', 'NN'): The word \"result\" is tagged as a noun (NN).\n",
    "('!', '.'): The exclamation mark \"!\" is tagged as a punctuation mark (.).\n",
    "('!', '.'): Another exclamation mark \"!\" is tagged as a punctuation mark (.).\n",
    "(',', ','): The comma \",\" is tagged as a punctuation mark (,).\n",
    "('Never', 'RB'): The word \"Never\" is tagged as an adverb (RB).\n",
    "('give', 'VBP'): The word \"give\" is tagged as a verb, non-3rd person singular present (VBP).\n",
    "('up', 'RP'): The word \"up\" is tagged as a particle (RP).\n",
    "Each word in the input text is associated with its respective part of speech, as identified by the pos_tag function."
   ]
  },
  {
   "cell_type": "markdown",
   "id": "bd74527a-00fe-428a-9960-ca629dd04cb2",
   "metadata": {},
   "source": [
    "TFIDF"
   ]
  },
  {
   "cell_type": "code",
   "execution_count": 24,
   "id": "84ba4379-a503-4cb4-b9b7-fc9931bec058",
   "metadata": {},
   "outputs": [],
   "source": [
    "from sklearn.feature_extraction.text import TfidfVectorizer"
   ]
  },
  {
   "cell_type": "markdown",
   "id": "9d769297-6f3f-4fb5-9c39-6887d5cee178",
   "metadata": {},
   "source": [
    "Term frequency-inverse document frequency is a text vectorizer that transforms the text into a usable vector. "
   ]
  },
  {
   "cell_type": "code",
   "execution_count": 25,
   "id": "f83cc47f-bf50-4e33-8769-27b636892b19",
   "metadata": {},
   "outputs": [],
   "source": [
    "def computeTF(wordDict, bagOfWords): \n",
    "    tfDict = {}\n",
    "    bagOfWordsCount = len(bagOfWords) \n",
    "    for word, count in wordDict.items():\n",
    "        tfDict[word] = count / float(bagOfWordsCount) \n",
    "    return tfDict"
   ]
  },
  {
   "cell_type": "code",
   "execution_count": 26,
   "id": "0504a8fd-6caf-415e-b2d0-8a1a643e0589",
   "metadata": {},
   "outputs": [],
   "source": [
    "def computeIDF(documents):\n",
    "    import math\n",
    "    N = len(documents)\n",
    "    idfDict = dict.fromkeys(documents[0].keys(), 0) \n",
    "    for document in documents:\n",
    "        for word, val in document.items(): \n",
    "            if val > 0:\n",
    "                idfDict[word] += 1\n",
    "                for word, val in idfDict.items():\n",
    "                    if val > 0: idfDict[word] = math.log(N / float(val))\n",
    "                    else: idfDict[word] = 0\n",
    "    return idfDict"
   ]
  },
  {
   "cell_type": "code",
   "execution_count": 27,
   "id": "e5dfe471-b808-4dc9-b264-3bdf8761e398",
   "metadata": {},
   "outputs": [],
   "source": [
    "def computeTFIDF(tfBagOfWords, idfs): \n",
    "    tfidf = {}\n",
    "    for word, val in tfBagOfWords.items(): \n",
    "        tfidf[word] = val * idfs[word]\n",
    "    return tfidf"
   ]
  },
  {
   "cell_type": "code",
   "execution_count": 28,
   "id": "7bd3c4ab-9692-4804-bf38-b3893d6d0a4e",
   "metadata": {},
   "outputs": [],
   "source": [
    "# Step 2: Initialize the Documents\n",
    "documentA='Jupiter is the largest planet'\n",
    "documentB='Mars is the fourth planet from the Sun'"
   ]
  },
  {
   "cell_type": "code",
   "execution_count": 29,
   "id": "c811bd85-38d2-4ae4-9f0e-a6d358337562",
   "metadata": {},
   "outputs": [],
   "source": [
    "# Step 3: Create BagofWords (BoW) for Document A and B. word tokenization\n",
    "bagOfWordsA=documentA.split(' ')\n",
    "bagOfWordsB=documentB.split(' ')\n"
   ]
  },
  {
   "cell_type": "code",
   "execution_count": 30,
   "id": "65d51ac8-64a3-40ce-a89e-84fc186f7600",
   "metadata": {},
   "outputs": [
    {
     "name": "stdout",
     "output_type": "stream",
     "text": [
      "{'Sun', 'from', 'planet', 'fourth', 'Mars', 'is', 'the', 'largest', 'Jupiter'}\n"
     ]
    }
   ],
   "source": [
    "# Step 4: Create Collection of Unique words from Document A and B.\n",
    "uniqueWords=set(bagOfWordsA).union(set(bagOfWordsB))\n",
    "print(uniqueWords)"
   ]
  },
  {
   "cell_type": "code",
   "execution_count": 36,
   "id": "d6ea484b-a4f2-48a7-a646-01f69284064f",
   "metadata": {},
   "outputs": [
    {
     "name": "stdout",
     "output_type": "stream",
     "text": [
      "{'Sun': 0, 'from': 0, 'planet': 1, 'fourth': 0, 'Mars': 0, 'is': 1, 'the': 1, 'largest': 1, 'Jupiter': 1}\n",
      "\n",
      " {'Sun': 1, 'from': 1, 'planet': 1, 'fourth': 1, 'Mars': 1, 'is': 1, 'the': 2, 'largest': 0, 'Jupiter': 0}\n"
     ]
    }
   ],
   "source": [
    "# Step 5: Create a dictionary of words and their occurrence for each document in the corpus\n",
    "\n",
    "numOfWordsA=dict.fromkeys(uniqueWords,0)\n",
    "for word in bagOfWordsA:\n",
    "    numOfWordsA[word]+=1\n",
    "print(numOfWordsA)\n",
    "\n",
    "numOfWordsB=dict.fromkeys(uniqueWords,0)\n",
    "for word in bagOfWordsB:\n",
    "    numOfWordsB[word]+=1\n",
    "print(\"\\n\",numOfWordsB)\n"
   ]
  },
  {
   "cell_type": "code",
   "execution_count": 37,
   "id": "f238e000-a0d2-46b7-a95a-a234ee8ed9b2",
   "metadata": {},
   "outputs": [
    {
     "name": "stdout",
     "output_type": "stream",
     "text": [
      "{'Sun': 0.0, 'from': 0.0, 'planet': 0.2, 'fourth': 0.0, 'Mars': 0.0, 'is': 0.2, 'the': 0.2, 'largest': 0.2, 'Jupiter': 0.2}\n"
     ]
    }
   ],
   "source": [
    "# Step 6: Compute the term frequency for each of our documents.\n",
    "tfA=computeTF(numOfWordsA,bagOfWordsA)\n",
    "tfB=computeTF(numOfWordsB,bagOfWordsB)"
   ]
  },
  {
   "cell_type": "code",
   "execution_count": 33,
   "id": "5b3e25ca-9d1a-41c6-9650-6e353cc4c594",
   "metadata": {},
   "outputs": [
    {
     "name": "stdout",
     "output_type": "stream",
     "text": [
      "----------------Term Frequency----------------------\n",
      "     Sun   from  planet  fourth   Mars     is   the  largest  Jupiter\n",
      "0  0.000  0.000   0.200   0.000  0.000  0.200  0.20      0.2      0.2\n",
      "1  0.125  0.125   0.125   0.125  0.125  0.125  0.25      0.0      0.0\n"
     ]
    }
   ],
   "source": [
    "## Step 7: Compute the term Inverse Document Frequency.\n",
    "print('----------------Term Frequency----------------------')\n",
    "df = pd.DataFrame([tfA, tfB]) \n",
    "print(df)"
   ]
  },
  {
   "cell_type": "code",
   "execution_count": 38,
   "id": "a9bf17cb-2cd9-45bf-8440-ba33d69bc4e2",
   "metadata": {},
   "outputs": [
    {
     "name": "stdout",
     "output_type": "stream",
     "text": [
      "----------------Inverse Document Frequency----------------------\n",
      "{'Sun': 0.4462224708037222, 'from': 1.2800827314091248, 'planet': -0.4225783823287224, 'fourth': 1.1469641504314008, 'Mars': 0.6351989831585243, 'is': 1.5133386487085827, 'the': 0.4403473339451181, 'largest': 0.28762552843253275, 'Jupiter': 1.5000848184268372}\n"
     ]
    }
   ],
   "source": [
    "# Step 8: Compute the term TF/IDF for all words.\n",
    "idfs = computeIDF([numOfWordsA, numOfWordsB]) \n",
    "print('----------------Inverse Document Frequency----------------------')\n",
    "print(idfs)"
   ]
  },
  {
   "cell_type": "code",
   "execution_count": 35,
   "id": "6d0787db-c9f8-4cf6-af3d-363fc19e5b9c",
   "metadata": {},
   "outputs": [
    {
     "name": "stdout",
     "output_type": "stream",
     "text": [
      "------------------- TF-IDF--------------------------------------\n",
      "        Sun     from    planet    fourth    Mars        is       the  \\\n",
      "0  0.000000  0.00000 -0.084516  0.000000  0.0000  0.302668  0.088069   \n",
      "1  0.055778  0.16001 -0.052822  0.143371  0.0794  0.189167  0.110087   \n",
      "\n",
      "    largest   Jupiter  \n",
      "0  0.057525  0.300017  \n",
      "1  0.000000  0.000000  \n"
     ]
    }
   ],
   "source": [
    "tfidfA = computeTFIDF(tfA, idfs) \n",
    "tfidfB = computeTFIDF(tfB, idfs)\n",
    "print('------------------- TF-IDF--------------------------------------')\n",
    "df = pd.DataFrame([tfidfA, tfidfB]) \n",
    "print(df)"
   ]
  }
 ],
 "metadata": {
  "kernelspec": {
   "display_name": "Python 3 (ipykernel)",
   "language": "python",
   "name": "python3"
  },
  "language_info": {
   "codemirror_mode": {
    "name": "ipython",
    "version": 3
   },
   "file_extension": ".py",
   "mimetype": "text/x-python",
   "name": "python",
   "nbconvert_exporter": "python",
   "pygments_lexer": "ipython3",
   "version": "3.8.10"
  }
 },
 "nbformat": 4,
 "nbformat_minor": 5
}

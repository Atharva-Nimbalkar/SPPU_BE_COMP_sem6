{
 "cells": [
  {
   "cell_type": "code",
   "execution_count": 1,
   "id": "3c834d25-3e5c-4cf0-9009-ecc8e04168d2",
   "metadata": {},
   "outputs": [],
   "source": [
    "import pandas as pd\n",
    "import numpy as np\n",
    "import seaborn as sns"
   ]
  },
  {
   "cell_type": "code",
   "execution_count": 2,
   "id": "fb9aa3c8-4efb-445b-b81c-f5ea6fecd3c4",
   "metadata": {},
   "outputs": [],
   "source": [
    "titanic=sns.load_dataset('titanic')"
   ]
  },
  {
   "cell_type": "code",
   "execution_count": 3,
   "id": "d9b712e1-bbda-4148-a285-5f714d19dfe2",
   "metadata": {},
   "outputs": [],
   "source": [
    " # we group by 'Sex' and provide summary statistics for 'Age'\n",
    "data=titanic.groupby('sex')['age']\n"
   ]
  },
  {
   "cell_type": "code",
   "execution_count": 10,
   "id": "37e30702-5db6-4720-8f90-17786c505df5",
   "metadata": {},
   "outputs": [],
   "source": [
    "print(data.mean())\n",
    "print(data.max())\n",
    "print(data.min())\n",
    "print(data.median())\n",
    "print(data.std())\n",
    "\n"
   ]
  },
  {
   "cell_type": "code",
   "execution_count": null,
   "id": "bf006d46-8a29-471e-a1b1-fc0315434547",
   "metadata": {},
   "outputs": [],
   "source": [
    "df=pd.read_csv(\"C:/Users/athar/Downloads/Iris.csv\")"
   ]
  },
  {
   "cell_type": "code",
   "execution_count": null,
   "id": "69b0b757-7bf9-4e2f-9dd2-33f86e5d0037",
   "metadata": {},
   "outputs": [],
   "source": [
    "df_setosa = df.loc[df['Species']=='Iris-setosa']\n",
    "df_setosa"
   ]
  },
  {
   "cell_type": "code",
   "execution_count": null,
   "id": "e9446eec-6ce0-4860-be8a-f33b8004f403",
   "metadata": {},
   "outputs": [],
   "source": [
    "grouped_data = df.groupby('Species')"
   ]
  },
  {
   "cell_type": "code",
   "execution_count": null,
   "id": "c6bd2155-022b-4e4e-889b-dbe00dd67688",
   "metadata": {},
   "outputs": [],
   "source": [
    "setosa_sepal_length = grouped_data.get_group('Iris-setosa')['SepalLengthCm']"
   ]
  },
  {
   "cell_type": "code",
   "execution_count": null,
   "id": "dccd07a0-22d4-4be8-bffb-7a3dd3e2d284",
   "metadata": {},
   "outputs": [],
   "source": [
    "summary_statistics = setosa_sepal_length.describe()"
   ]
  },
  {
   "cell_type": "code",
   "execution_count": null,
   "id": "a7c5fa6f-98fc-4e3a-b828-816cd5b12713",
   "metadata": {},
   "outputs": [],
   "source": [
    "print(summary_statistics)"
   ]
  },
  {
   "cell_type": "code",
   "execution_count": null,
   "id": "51c19bd3-f6be-4e63-a184-65d00c54c095",
   "metadata": {},
   "outputs": [],
   "source": [
    "# data = titanic.groupby('sex')['age']"
   ]
  },
  {
   "cell_type": "code",
   "execution_count": null,
   "id": "a32f3e95-7a72-4cda-a1ad-87eb5fc3f61c",
   "metadata": {},
   "outputs": [],
   "source": [
    "# Create a list that contains a numeric value for each response to the categorical variable\n",
    "# numeric = [data.mean(), data.median(), data.min(), data.max(), data.std()]"
   ]
  },
  {
   "cell_type": "code",
   "execution_count": null,
   "id": "5269d8e3-ef23-4221-a243-7e783232a905",
   "metadata": {},
   "outputs": [],
   "source": [
    "iris_versicolor=df[df['Species']=='Iris-versicolor'].describe()\n",
    "print(\"Basic statistical details of the species of ‘Iris-versicolor’\\n\", iris_versicolor)\n"
   ]
  }
 ],
 "metadata": {
  "kernelspec": {
   "display_name": "Python 3 (ipykernel)",
   "language": "python",
   "name": "python3"
  },
  "language_info": {
   "codemirror_mode": {
    "name": "ipython",
    "version": 3
   },
   "file_extension": ".py",
   "mimetype": "text/x-python",
   "name": "python",
   "nbconvert_exporter": "python",
   "pygments_lexer": "ipython3",
   "version": "3.8.10"
  }
 },
 "nbformat": 4,
 "nbformat_minor": 5
}

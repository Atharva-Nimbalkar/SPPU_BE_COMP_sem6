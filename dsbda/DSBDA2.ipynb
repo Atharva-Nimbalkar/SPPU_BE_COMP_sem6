{
 "cells": [
  {
   "cell_type": "code",
   "execution_count": 1,
   "id": "1da7f78c-ca9e-4cbe-81b0-229e1ef632b8",
   "metadata": {},
   "outputs": [],
   "source": [
    "import pandas as pd\n",
    "import numpy as np\n",
    "import seaborn as sns"
   ]
  },
  {
   "cell_type": "code",
   "execution_count": 2,
   "id": "9c6b81a2-5400-41fa-82e1-d46d979285de",
   "metadata": {},
   "outputs": [],
   "source": [
    "df={\"roll_no\":[\"11\",\"21\",\"31\",\"41\",\"51\",\"61\",\"45\",\"44\",\"23\",\"18\"],\"name\":[\"a\",\"b\",\"c\",\"d\",\"e\",\"f\",\"g\",\"h\",\"i\",\"j\"],\"SGPA1\":[5.6,6.6,np.nan,7.6,8.4,7.2,8.9,9.2,9.3,8.5],\"age\":[180,19,20,18,19,20,18,19,2,20]}"
   ]
  },
  {
   "cell_type": "code",
   "execution_count": 3,
   "id": "ac0844c7-e439-47b1-aea9-0c1809c9dde5",
   "metadata": {},
   "outputs": [],
   "source": [
    "data=pd.DataFrame(df)"
   ]
  },
  {
   "cell_type": "code",
   "execution_count": 4,
   "id": "b479b6fb-77b7-4e2a-8898-4e3d1fccbc30",
   "metadata": {},
   "outputs": [
    {
     "data": {
      "text/html": [
       "<div>\n",
       "<style scoped>\n",
       "    .dataframe tbody tr th:only-of-type {\n",
       "        vertical-align: middle;\n",
       "    }\n",
       "\n",
       "    .dataframe tbody tr th {\n",
       "        vertical-align: top;\n",
       "    }\n",
       "\n",
       "    .dataframe thead th {\n",
       "        text-align: right;\n",
       "    }\n",
       "</style>\n",
       "<table border=\"1\" class=\"dataframe\">\n",
       "  <thead>\n",
       "    <tr style=\"text-align: right;\">\n",
       "      <th></th>\n",
       "      <th>roll_no</th>\n",
       "      <th>name</th>\n",
       "      <th>SGPA1</th>\n",
       "      <th>age</th>\n",
       "    </tr>\n",
       "  </thead>\n",
       "  <tbody>\n",
       "    <tr>\n",
       "      <th>0</th>\n",
       "      <td>11</td>\n",
       "      <td>a</td>\n",
       "      <td>5.6</td>\n",
       "      <td>180</td>\n",
       "    </tr>\n",
       "    <tr>\n",
       "      <th>1</th>\n",
       "      <td>21</td>\n",
       "      <td>b</td>\n",
       "      <td>6.6</td>\n",
       "      <td>19</td>\n",
       "    </tr>\n",
       "    <tr>\n",
       "      <th>2</th>\n",
       "      <td>31</td>\n",
       "      <td>c</td>\n",
       "      <td>NaN</td>\n",
       "      <td>20</td>\n",
       "    </tr>\n",
       "    <tr>\n",
       "      <th>3</th>\n",
       "      <td>41</td>\n",
       "      <td>d</td>\n",
       "      <td>7.6</td>\n",
       "      <td>18</td>\n",
       "    </tr>\n",
       "    <tr>\n",
       "      <th>4</th>\n",
       "      <td>51</td>\n",
       "      <td>e</td>\n",
       "      <td>8.4</td>\n",
       "      <td>19</td>\n",
       "    </tr>\n",
       "    <tr>\n",
       "      <th>5</th>\n",
       "      <td>61</td>\n",
       "      <td>f</td>\n",
       "      <td>7.2</td>\n",
       "      <td>20</td>\n",
       "    </tr>\n",
       "    <tr>\n",
       "      <th>6</th>\n",
       "      <td>45</td>\n",
       "      <td>g</td>\n",
       "      <td>8.9</td>\n",
       "      <td>18</td>\n",
       "    </tr>\n",
       "    <tr>\n",
       "      <th>7</th>\n",
       "      <td>44</td>\n",
       "      <td>h</td>\n",
       "      <td>9.2</td>\n",
       "      <td>19</td>\n",
       "    </tr>\n",
       "    <tr>\n",
       "      <th>8</th>\n",
       "      <td>23</td>\n",
       "      <td>i</td>\n",
       "      <td>9.3</td>\n",
       "      <td>2</td>\n",
       "    </tr>\n",
       "    <tr>\n",
       "      <th>9</th>\n",
       "      <td>18</td>\n",
       "      <td>j</td>\n",
       "      <td>8.5</td>\n",
       "      <td>20</td>\n",
       "    </tr>\n",
       "  </tbody>\n",
       "</table>\n",
       "</div>"
      ],
      "text/plain": [
       "  roll_no name  SGPA1  age\n",
       "0      11    a    5.6  180\n",
       "1      21    b    6.6   19\n",
       "2      31    c    NaN   20\n",
       "3      41    d    7.6   18\n",
       "4      51    e    8.4   19\n",
       "5      61    f    7.2   20\n",
       "6      45    g    8.9   18\n",
       "7      44    h    9.2   19\n",
       "8      23    i    9.3    2\n",
       "9      18    j    8.5   20"
      ]
     },
     "execution_count": 4,
     "metadata": {},
     "output_type": "execute_result"
    }
   ],
   "source": [
    "data"
   ]
  },
  {
   "cell_type": "code",
   "execution_count": 5,
   "id": "f946ccbf-b3ac-4fd1-96f0-46b8b85091d3",
   "metadata": {},
   "outputs": [
    {
     "data": {
      "text/plain": [
       "roll_no    0\n",
       "name       0\n",
       "SGPA1      1\n",
       "age        0\n",
       "dtype: int64"
      ]
     },
     "execution_count": 5,
     "metadata": {},
     "output_type": "execute_result"
    }
   ],
   "source": [
    "data.isnull().sum()"
   ]
  },
  {
   "cell_type": "code",
   "execution_count": 6,
   "id": "2fdddb2a-a75c-4adb-b6ea-025fd5de7090",
   "metadata": {},
   "outputs": [],
   "source": [
    "data['SGPA1'].fillna(data['SGPA1'].mean(),inplace=True)"
   ]
  },
  {
   "cell_type": "code",
   "execution_count": 7,
   "id": "1cdd2d53-affe-4193-9447-44884a273500",
   "metadata": {},
   "outputs": [
    {
     "data": {
      "text/plain": [
       "roll_no     object\n",
       "name        object\n",
       "SGPA1      float64\n",
       "age          int64\n",
       "dtype: object"
      ]
     },
     "execution_count": 7,
     "metadata": {},
     "output_type": "execute_result"
    }
   ],
   "source": [
    "data.dtypes"
   ]
  },
  {
   "cell_type": "code",
   "execution_count": 8,
   "id": "129c5809-211a-48b5-98df-65036fbdd465",
   "metadata": {},
   "outputs": [
    {
     "data": {
      "text/html": [
       "<div>\n",
       "<style scoped>\n",
       "    .dataframe tbody tr th:only-of-type {\n",
       "        vertical-align: middle;\n",
       "    }\n",
       "\n",
       "    .dataframe tbody tr th {\n",
       "        vertical-align: top;\n",
       "    }\n",
       "\n",
       "    .dataframe thead th {\n",
       "        text-align: right;\n",
       "    }\n",
       "</style>\n",
       "<table border=\"1\" class=\"dataframe\">\n",
       "  <thead>\n",
       "    <tr style=\"text-align: right;\">\n",
       "      <th></th>\n",
       "      <th>roll_no</th>\n",
       "      <th>name</th>\n",
       "      <th>SGPA1</th>\n",
       "      <th>age</th>\n",
       "    </tr>\n",
       "  </thead>\n",
       "  <tbody>\n",
       "    <tr>\n",
       "      <th>0</th>\n",
       "      <td>11</td>\n",
       "      <td>a</td>\n",
       "      <td>5.600000</td>\n",
       "      <td>180</td>\n",
       "    </tr>\n",
       "    <tr>\n",
       "      <th>1</th>\n",
       "      <td>21</td>\n",
       "      <td>b</td>\n",
       "      <td>6.600000</td>\n",
       "      <td>19</td>\n",
       "    </tr>\n",
       "    <tr>\n",
       "      <th>2</th>\n",
       "      <td>31</td>\n",
       "      <td>c</td>\n",
       "      <td>7.922222</td>\n",
       "      <td>20</td>\n",
       "    </tr>\n",
       "    <tr>\n",
       "      <th>3</th>\n",
       "      <td>41</td>\n",
       "      <td>d</td>\n",
       "      <td>7.600000</td>\n",
       "      <td>18</td>\n",
       "    </tr>\n",
       "    <tr>\n",
       "      <th>4</th>\n",
       "      <td>51</td>\n",
       "      <td>e</td>\n",
       "      <td>8.400000</td>\n",
       "      <td>19</td>\n",
       "    </tr>\n",
       "    <tr>\n",
       "      <th>5</th>\n",
       "      <td>61</td>\n",
       "      <td>f</td>\n",
       "      <td>7.200000</td>\n",
       "      <td>20</td>\n",
       "    </tr>\n",
       "    <tr>\n",
       "      <th>6</th>\n",
       "      <td>45</td>\n",
       "      <td>g</td>\n",
       "      <td>8.900000</td>\n",
       "      <td>18</td>\n",
       "    </tr>\n",
       "    <tr>\n",
       "      <th>7</th>\n",
       "      <td>44</td>\n",
       "      <td>h</td>\n",
       "      <td>9.200000</td>\n",
       "      <td>19</td>\n",
       "    </tr>\n",
       "    <tr>\n",
       "      <th>8</th>\n",
       "      <td>23</td>\n",
       "      <td>i</td>\n",
       "      <td>9.300000</td>\n",
       "      <td>2</td>\n",
       "    </tr>\n",
       "    <tr>\n",
       "      <th>9</th>\n",
       "      <td>18</td>\n",
       "      <td>j</td>\n",
       "      <td>8.500000</td>\n",
       "      <td>20</td>\n",
       "    </tr>\n",
       "  </tbody>\n",
       "</table>\n",
       "</div>"
      ],
      "text/plain": [
       "  roll_no name     SGPA1  age\n",
       "0      11    a  5.600000  180\n",
       "1      21    b  6.600000   19\n",
       "2      31    c  7.922222   20\n",
       "3      41    d  7.600000   18\n",
       "4      51    e  8.400000   19\n",
       "5      61    f  7.200000   20\n",
       "6      45    g  8.900000   18\n",
       "7      44    h  9.200000   19\n",
       "8      23    i  9.300000    2\n",
       "9      18    j  8.500000   20"
      ]
     },
     "execution_count": 8,
     "metadata": {},
     "output_type": "execute_result"
    }
   ],
   "source": [
    "data"
   ]
  },
  {
   "cell_type": "code",
   "execution_count": 9,
   "id": "ed2f75d1-f766-4b13-b9f8-2bc51cad6e63",
   "metadata": {},
   "outputs": [
    {
     "data": {
      "text/plain": [
       "<Axes: ylabel='age'>"
      ]
     },
     "execution_count": 9,
     "metadata": {},
     "output_type": "execute_result"
    },
    {
     "data": {
      "image/png": "[encoded data removed]",
      "text/plain": [
       "<Figure size 640x480 with 1 Axes>"
      ]
     },
     "metadata": {},
     "output_type": "display_data"
    }
   ],
   "source": [
    "sns.boxplot(data['age'])"
   ]
  },
  {
   "cell_type": "code",
   "execution_count": 10,
   "id": "9d633dd2-e7da-471c-a398-58257966e7ba",
   "metadata": {},
   "outputs": [
    {
     "name": "stdout",
     "output_type": "stream",
     "text": [
      "Q1:  18.25\n",
      "Q3:  20.0\n",
      "IQR:  1.75\n"
     ]
    }
   ],
   "source": [
    "Q1=data['age'].quantile(0.25)\n",
    "Q3=data['age'].quantile(0.75)\n",
    "\n",
    "IQR=Q3-Q1\n",
    "\n",
    "print(\"Q1: \", Q1)\n",
    "print(\"Q3: \", Q3)\n",
    "print(\"IQR: \", IQR)"
   ]
  },
  {
   "cell_type": "code",
   "execution_count": 11,
   "id": "b615c269-3eac-42d1-82ee-7b886be048df",
   "metadata": {},
   "outputs": [
    {
     "name": "stdout",
     "output_type": "stream",
     "text": [
      "  roll_no name  SGPA1  age\n",
      "0      11    a    5.6  180\n",
      "8      23    i    9.3    2\n"
     ]
    }
   ],
   "source": [
    "outliers=data[(data['age']<(Q1-1.5*IQR)) | (data['age']>(Q3+1.5*IQR))]\n",
    "print(outliers)"
   ]
  },
  {
   "cell_type": "code",
   "execution_count": 12,
   "id": "c8a9bfb2-322e-432e-a9f6-8c2326a1567a",
   "metadata": {},
   "outputs": [],
   "source": [
    "data['age']=data['age'].mask(data['age']>Q3+1.5*IQR,data['age'].mode()[0])\n"
   ]
  },
  {
   "cell_type": "code",
   "execution_count": 13,
   "id": "336b6cc7-8706-45bd-8705-54e8f809b2d4",
   "metadata": {},
   "outputs": [],
   "source": [
    "data['age']=data['age'].mask(data['age']<Q1-1.5*IQR,data['age'].mode()[0])"
   ]
  },
  {
   "cell_type": "code",
   "execution_count": 14,
   "id": "d3bf5594-aeac-46a9-bc26-fd5e68a4064b",
   "metadata": {},
   "outputs": [
    {
     "data": {
      "text/html": [
       "<div>\n",
       "<style scoped>\n",
       "    .dataframe tbody tr th:only-of-type {\n",
       "        vertical-align: middle;\n",
       "    }\n",
       "\n",
       "    .dataframe tbody tr th {\n",
       "        vertical-align: top;\n",
       "    }\n",
       "\n",
       "    .dataframe thead th {\n",
       "        text-align: right;\n",
       "    }\n",
       "</style>\n",
       "<table border=\"1\" class=\"dataframe\">\n",
       "  <thead>\n",
       "    <tr style=\"text-align: right;\">\n",
       "      <th></th>\n",
       "      <th>roll_no</th>\n",
       "      <th>name</th>\n",
       "      <th>SGPA1</th>\n",
       "      <th>age</th>\n",
       "    </tr>\n",
       "  </thead>\n",
       "  <tbody>\n",
       "    <tr>\n",
       "      <th>0</th>\n",
       "      <td>11</td>\n",
       "      <td>a</td>\n",
       "      <td>5.600000</td>\n",
       "      <td>19</td>\n",
       "    </tr>\n",
       "    <tr>\n",
       "      <th>1</th>\n",
       "      <td>21</td>\n",
       "      <td>b</td>\n",
       "      <td>6.600000</td>\n",
       "      <td>19</td>\n",
       "    </tr>\n",
       "    <tr>\n",
       "      <th>2</th>\n",
       "      <td>31</td>\n",
       "      <td>c</td>\n",
       "      <td>7.922222</td>\n",
       "      <td>20</td>\n",
       "    </tr>\n",
       "    <tr>\n",
       "      <th>3</th>\n",
       "      <td>41</td>\n",
       "      <td>d</td>\n",
       "      <td>7.600000</td>\n",
       "      <td>18</td>\n",
       "    </tr>\n",
       "    <tr>\n",
       "      <th>4</th>\n",
       "      <td>51</td>\n",
       "      <td>e</td>\n",
       "      <td>8.400000</td>\n",
       "      <td>19</td>\n",
       "    </tr>\n",
       "    <tr>\n",
       "      <th>5</th>\n",
       "      <td>61</td>\n",
       "      <td>f</td>\n",
       "      <td>7.200000</td>\n",
       "      <td>20</td>\n",
       "    </tr>\n",
       "    <tr>\n",
       "      <th>6</th>\n",
       "      <td>45</td>\n",
       "      <td>g</td>\n",
       "      <td>8.900000</td>\n",
       "      <td>18</td>\n",
       "    </tr>\n",
       "    <tr>\n",
       "      <th>7</th>\n",
       "      <td>44</td>\n",
       "      <td>h</td>\n",
       "      <td>9.200000</td>\n",
       "      <td>19</td>\n",
       "    </tr>\n",
       "    <tr>\n",
       "      <th>8</th>\n",
       "      <td>23</td>\n",
       "      <td>i</td>\n",
       "      <td>9.300000</td>\n",
       "      <td>19</td>\n",
       "    </tr>\n",
       "    <tr>\n",
       "      <th>9</th>\n",
       "      <td>18</td>\n",
       "      <td>j</td>\n",
       "      <td>8.500000</td>\n",
       "      <td>20</td>\n",
       "    </tr>\n",
       "  </tbody>\n",
       "</table>\n",
       "</div>"
      ],
      "text/plain": [
       "  roll_no name     SGPA1  age\n",
       "0      11    a  5.600000   19\n",
       "1      21    b  6.600000   19\n",
       "2      31    c  7.922222   20\n",
       "3      41    d  7.600000   18\n",
       "4      51    e  8.400000   19\n",
       "5      61    f  7.200000   20\n",
       "6      45    g  8.900000   18\n",
       "7      44    h  9.200000   19\n",
       "8      23    i  9.300000   19\n",
       "9      18    j  8.500000   20"
      ]
     },
     "execution_count": 14,
     "metadata": {},
     "output_type": "execute_result"
    }
   ],
   "source": [
    "data"
   ]
  },
  {
   "cell_type": "code",
   "execution_count": null,
   "id": "188336b7-748e-4b51-a0c1-3686913e6e80",
   "metadata": {},
   "outputs": [],
   "source": [
    "# The age column has a centered data. We can apply a log transformation to the age column to \n",
    "# convert the distribution into a normal distribution.\n",
    "# Log transformation is a statistical technique that replaces data values with logarithmic forms, such as ln(x) or log(x), to reduce skewness in a measurement variable."
   ]
  },
  {
   "cell_type": "code",
   "execution_count": 15,
   "id": "7760a3e4-0623-4fd9-ac77-f673bb92c370",
   "metadata": {},
   "outputs": [],
   "source": [
    "data['age']=data['age'].apply(lambda x: np.log(x) if x > 0 else 0)"
   ]
  },
  {
   "cell_type": "code",
   "execution_count": 16,
   "id": "5bfaeec7-37b8-4d7e-9cf0-3eabeea3d189",
   "metadata": {},
   "outputs": [
    {
     "name": "stdout",
     "output_type": "stream",
     "text": [
      "0    2.944439\n",
      "1    2.944439\n",
      "2    2.995732\n",
      "3    2.890372\n",
      "4    2.944439\n",
      "5    2.995732\n",
      "6    2.890372\n",
      "7    2.944439\n",
      "8    2.944439\n",
      "9    2.995732\n",
      "Name: age, dtype: float64\n"
     ]
    }
   ],
   "source": [
    "print(data['age'])"
   ]
  },
  {
   "cell_type": "code",
   "execution_count": 20,
   "id": "181ba2d4-f4cc-4707-aaec-71674eebf742",
   "metadata": {},
   "outputs": [
    {
     "data": {
      "text/plain": [
       "<Axes: ylabel='age'>"
      ]
     },
     "execution_count": 20,
     "metadata": {},
     "output_type": "execute_result"
    },
    {
     "data": {
      "image/png": "[encoded data removed]",
      "text/plain": [
       "<Figure size 640x480 with 1 Axes>"
      ]
     },
     "metadata": {},
     "output_type": "display_data"
    }
   ],
   "source": [
    "# show age distribution after transformation in boxplot\n",
    "sns.boxplot(data['age'])\n"
   ]
  },
  {
   "cell_type": "code",
   "execution_count": 25,
   "id": "816a194a-8443-4461-a6bb-59611a2aa034",
   "metadata": {},
   "outputs": [
    {
     "data": {
      "text/plain": [
       "2.9490135232286505"
      ]
     },
     "execution_count": 25,
     "metadata": {},
     "output_type": "execute_result"
    }
   ],
   "source": [
    "data['age'].mean()"
   ]
  }
 ],
 "metadata": {
  "kernelspec": {
   "display_name": "Python 3 (ipykernel)",
   "language": "python",
   "name": "python3"
  },
  "language_info": {
   "codemirror_mode": {
    "name": "ipython",
    "version": 3
   },
   "file_extension": ".py",
   "mimetype": "text/x-python",
   "name": "python",
   "nbconvert_exporter": "python",
   "pygments_lexer": "ipython3",
   "version": "3.8.10"
  }
 },
 "nbformat": 4,
 "nbformat_minor": 5
}
